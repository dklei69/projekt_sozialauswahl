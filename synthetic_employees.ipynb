{
 "cells": [
  {
   "cell_type": "code",
   "execution_count": 18,
   "id": "72350409",
   "metadata": {},
   "outputs": [
    {
     "name": "stdout",
     "output_type": "stream",
     "text": [
      "Die Datei new_names_synthetic_employees.csv wurde erfolgreich erstellt.\n"
     ]
    }
   ],
   "source": [
    "\n",
    "import csv\n",
    "import random\n",
    "from faker import Faker\n",
    "\n",
    "fake = Faker()\n",
    "\n",
    "def generate_synthetic_employees(num_employees):\n",
    "    employees = []\n",
    "    for i in range(num_employees):\n",
    "        vorname = fake.first_name()  # Generieren eines zufälligen Vornamens\n",
    "        nachname = fake.last_name()  # Generieren eines zufälligen Nachnamens\n",
    "        name = f\"{vorname} {nachname}\".upper()  # Zufälliger Name in Großbuchstaben\n",
    "        alter = random.randint(20, 60)\n",
    "\n",
    "        # Berechnung der Betriebszugehörigkeit\n",
    "        # Da musste ich nochmal ran, da in der ersten Version auch Kinderarbeit zulässig war. Nun wird geschaut,\n",
    "        #    dass die Betriebszugehörigkeit niemals das 16.Lebensjahr unterschreitet. \n",
    "        max_betriebszugehoerigkeit = alter - 16\n",
    "        if max_betriebszugehoerigkeit < 0:\n",
    "            max_betriebszugehoerigkeit = 0\n",
    "        betriebszugehoerigkeit = random.randint(1, max_betriebszugehoerigkeit)\n",
    "        \n",
    "        ehepartner_unterhalt = random.choice([0, 1])  # Zufällige Auswahl von 0 (keine Unterhaltspflicht) oder 1 (Unterhaltspflicht)\n",
    "        kinder_unterhalt = random.randint(0, 3)  # Zufällige Anzahl von unterhaltsberechtigten Kindern zwischen 0 und 3\n",
    "        schwerbehindert = random.choice([0, 1])  # Zufällige Auswahl von 0 (nicht schwerbehindert) oder 1 (schwerbehindert)\n",
    "        arbeitsvertrag = random.choice([80, 130, 145, 160, 167])\n",
    "        employee_data = [vorname, nachname, alter, betriebszugehoerigkeit, ehepartner_unterhalt, kinder_unterhalt, schwerbehindert, arbeitsvertrag]\n",
    "        employees.append(employee_data)\n",
    "    return employees\n",
    "\n",
    "# Die synthetischen Daten für 40 fiktive Mitarbeiter:\n",
    "num_employees = 40\n",
    "synthetic_employees = generate_synthetic_employees(num_employees)\n",
    "filename = 'new_names_synthetic_employees.csv'\n",
    "\n",
    "# Die synthetischen Mitarbeiterdaten werden nun in eine CSV-Datei mit 7 Spalten generiert\n",
    "with open(filename, mode='w', newline='') as file:\n",
    "    writer = csv.writer(file)\n",
    "    # Schreibe die Kopfzeile\n",
    "    writer.writerow([\"Vorname\", \"Nachname\",\"Alter\", \"Betriebszugehoerigkeit\", \"EhepartnerUnterhalt\", \"KinderUnterhalt\", \"Schwerbehindert\", \"Arbeitsvertrag\"])\n",
    "    # Schreibe die Daten\n",
    "    writer.writerows(synthetic_employees)\n",
    "# Dann wollen wir mal sehen, ob alles richtig ist:\n",
    "print(f\"Die Datei {filename} wurde erfolgreich erstellt.\")\n"
   ]
  },
  {
   "cell_type": "markdown",
   "id": "653bf065",
   "metadata": {},
   "source": [
    "# Hurra! Hat geklappt!"
   ]
  },
  {
   "cell_type": "markdown",
   "id": "b6f2684f",
   "metadata": {},
   "source": []
  },
  {
   "cell_type": "code",
   "execution_count": null,
   "id": "03749e92",
   "metadata": {},
   "outputs": [],
   "source": []
  },
  {
   "cell_type": "markdown",
   "id": "aa6edc0d",
   "metadata": {},
   "source": []
  },
  {
   "cell_type": "code",
   "execution_count": null,
   "id": "2579f38d",
   "metadata": {},
   "outputs": [],
   "source": []
  },
  {
   "cell_type": "code",
   "execution_count": null,
   "id": "27013c1a",
   "metadata": {},
   "outputs": [],
   "source": []
  }
 ],
 "metadata": {
  "kernelspec": {
   "display_name": "Python 3 (ipykernel)",
   "language": "python",
   "name": "python3"
  },
  "language_info": {
   "codemirror_mode": {
    "name": "ipython",
    "version": 3
   },
   "file_extension": ".py",
   "mimetype": "text/x-python",
   "name": "python",
   "nbconvert_exporter": "python",
   "pygments_lexer": "ipython3",
   "version": "3.11.5"
  }
 },
 "nbformat": 4,
 "nbformat_minor": 5
}
